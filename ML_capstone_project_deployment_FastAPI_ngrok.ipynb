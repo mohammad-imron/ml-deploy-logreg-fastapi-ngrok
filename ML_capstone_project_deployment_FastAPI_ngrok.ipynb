{
  "metadata": {
    "colab": {
      "provenance": []
    },
    "gpuClass": "standard",
    "kernelspec": {
      "display_name": "Python 3",
      "language": "python",
      "name": "python3"
    },
    "language_info": {
      "name": "python",
      "version": "3.10.14",
      "mimetype": "text/x-python",
      "codemirror_mode": {
        "name": "ipython",
        "version": 3
      },
      "pygments_lexer": "ipython3",
      "nbconvert_exporter": "python",
      "file_extension": ".py"
    },
    "kaggle": {
      "accelerator": "none",
      "dataSources": [
        {
          "sourceId": 9218037,
          "sourceType": "datasetVersion",
          "datasetId": 5574380
        }
      ],
      "dockerImageVersionId": 30761,
      "isInternetEnabled": true,
      "language": "python",
      "sourceType": "notebook",
      "isGpuEnabled": false
    }
  },
  "nbformat_minor": 0,
  "nbformat": 4,
  "cells": [
    {
      "cell_type": "markdown",
      "source": [
        "# **Capstone project: Providing data-driven suggestions for HR**"
      ],
      "metadata": {
        "id": "ysS5rgTMWpwL"
      }
    },
    {
      "cell_type": "markdown",
      "source": [
        "## Description and deliverables\n",
        "\n",
        "This capstone project is about deploying predictive model that can provide insights to the Human Resources (HR) department of a large consulting firm. This implementation only covers  deployment of a model, which derived from data analysis process that undergo certain steps as describe in CRISP-DM framework.\n",
        "\n",
        "\n"
      ],
      "metadata": {
        "id": "pZNZpq0EotHt"
      }
    },
    {
      "cell_type": "code",
      "source": [
        "# Splitting data in training and testing\n",
        "from sklearn.model_selection import train_test_split\n",
        "X_train,X_test,y_train,y_test=train_test_split(X,y,stratify=y, test_size=0.25,random_state=42)"
      ],
      "metadata": {
        "id": "3lTGhibet-dQ"
      },
      "execution_count": null,
      "outputs": []
    },
    {
      "cell_type": "code",
      "source": [
        "# Using logistic regression\n",
        "from sklearn.linear_model import LogisticRegression\n",
        "log_mod= LogisticRegression(random_state=42,max_iter=500)"
      ],
      "metadata": {
        "id": "yXZH1QE3t_wX"
      },
      "execution_count": null,
      "outputs": []
    },
    {
      "cell_type": "code",
      "source": [
        "# Fittng model\n",
        "log_mod.fit(X_train,y_train)\n",
        "\n",
        "#Predicting value\n",
        "y_pred=log_mod.predict(X_test)\n"
      ],
      "metadata": {
        "id": "kgcXgp4quDIR"
      },
      "execution_count": null,
      "outputs": []
    },
    {
      "cell_type": "code",
      "source": [
        "Pkl_Filename_log_mod = \"model_log_mod.pkl\"\n",
        "\n",
        "with open(Pkl_Filename_log_mod, 'wb') as file:\n",
        "    pickle.dump(log_mod, file)"
      ],
      "metadata": {
        "id": "5OOgV-Twj2FS"
      },
      "execution_count": null,
      "outputs": []
    },
    {
      "cell_type": "code",
      "source": [
        "from pydantic import BaseModel\n",
        "\n",
        "class Logmod(BaseModel):\n",
        "    satisfaction_level: float\n",
        "    last_evaluation: float\n",
        "    number_project: int\n",
        "    average_monthly_hours\t: int\n",
        "    time_spend_company: int\n",
        "    work_accident\t: int\n",
        "    promotion_last_five_years: int\n",
        "    salary: int\n",
        "    department_IT: bool\n",
        "    department_RandD: bool\n",
        "    department_accounting: bool\n",
        "    department_hr: bool\n",
        "    department_management: bool\n",
        "    department_marketing: bool\n",
        "    department_product_mng: bool\n",
        "    department_sales: bool\n",
        "    department_support: bool\n",
        "    department_technical: bool\n",
        "    class Config:\n",
        "        json_schema_extra = {\n",
        "            \"example\": {\n",
        "                \"satisfaction_level\": 0.38,\n",
        "                \"last_evaluation\": 0.53,\n",
        "                \"number_project\": 2,\n",
        "                \"average_monthly_hours\": 157,\n",
        "                \"time_spend_company\": 3,\n",
        "                \"work_accident\": 0,\n",
        "                \"promotion_last_five_years\": 1,\n",
        "                \"salary\": 1\n",
        "            }\n",
        "        }\n",
        "\n"
      ],
      "metadata": {
        "id": "BG9si-tRm-J0"
      },
      "execution_count": null,
      "outputs": []
    },
    {
      "cell_type": "code",
      "source": [
        "#!pip install colabcode"
      ],
      "metadata": {
        "id": "8s9L03nCrSAZ"
      },
      "execution_count": null,
      "outputs": []
    },
    {
      "cell_type": "code",
      "source": [
        "!pip install fastapi"
      ],
      "metadata": {
        "id": "X7Dcv4bvrbKr"
      },
      "execution_count": null,
      "outputs": []
    },
    {
      "cell_type": "code",
      "source": [
        "!pip install uvicorn"
      ],
      "metadata": {
        "id": "pQ0asjbMtKdH"
      },
      "execution_count": null,
      "outputs": []
    },
    {
      "cell_type": "code",
      "source": [
        "!pip install pyngrok"
      ],
      "metadata": {
        "colab": {
          "base_uri": "https://localhost:8080/"
        },
        "id": "TQGkmysdnON5",
        "outputId": "9972d531-15e7-4880-bb8d-fb7d654e8cd7"
      },
      "execution_count": null,
      "outputs": [
        {
          "output_type": "stream",
          "name": "stdout",
          "text": [
            "Collecting pyngrok\n",
            "  Downloading pyngrok-7.2.0-py3-none-any.whl.metadata (7.4 kB)\n",
            "Requirement already satisfied: PyYAML>=5.1 in /usr/local/lib/python3.10/dist-packages (from pyngrok) (6.0.2)\n",
            "Downloading pyngrok-7.2.0-py3-none-any.whl (22 kB)\n",
            "Installing collected packages: pyngrok\n",
            "Successfully installed pyngrok-7.2.0\n"
          ]
        }
      ]
    },
    {
      "cell_type": "code",
      "source": [
        "from pyngrok import ngrok\n",
        "!ngrok authtoken <your token>\n",
        "ngrok_tunnel = ngrok.connect(8000)"
      ],
      "metadata": {
        "colab": {
          "base_uri": "https://localhost:8080/"
        },
        "id": "-SnouQfLm9ES",
        "outputId": "293fd7cc-9ee6-4d7e-fa1a-ee96294cd361"
      },
      "execution_count": null,
      "outputs": [
        {
          "output_type": "stream",
          "name": "stdout",
          "text": [
            "Authtoken saved to configuration file: /root/.config/ngrok/ngrok.yml\n"
          ]
        }
      ]
    },
    {
      "cell_type": "code",
      "source": [
        "from fastapi import FastAPI\n",
        "import json\n",
        "import uvicorn\n",
        "from fastapi.middleware.cors import CORSMiddleware\n",
        "import nest_asyncio\n",
        "print('Public URL:', ngrok_tunnel.public_url)\n",
        "nest_asyncio.apply()\n",
        "app = FastAPI()\n",
        "origins = [\"*\"]\n",
        "\n",
        "app.add_middleware(\n",
        "    CORSMiddleware,\n",
        "    allow_origins=origins,\n",
        "    allow_credentials=True,\n",
        "    allow_methods=[\"*\"],\n",
        "    allow_headers=[\"*\"],\n",
        ")\n",
        "\n",
        "@app.post('/predict')\n",
        "def get_employee_attrition(input_parameters : Logmod):\n",
        "\n",
        "    input_data = input_parameters.json()\n",
        "    input_dictionary = json.loads(input_data)\n",
        "\n",
        "    satisfaction_level = input_dictionary['satisfaction_level']\n",
        "    last_evaluation = input_dictionary['last_evaluation']\n",
        "    number_project = input_dictionary['number_project']\n",
        "    average_monthly_hours = input_dictionary['average_monthly_hours']\n",
        "    time_spend_company = input_dictionary['time_spend_company']\n",
        "    work_accident = input_dictionary['work_accident']\n",
        "    promotion_last_five_years = input_dictionary['promotion_last_five_years']\n",
        "    salary = input_dictionary['salary']\n",
        "    department_IT = input_dictionary['department_IT']\n",
        "    department_RandD = input_dictionary['department_RandD']\n",
        "    department_accounting = input_dictionary['department_accounting']\n",
        "    department_hr = input_dictionary['department_hr']\n",
        "    department_management = input_dictionary['department_management']\n",
        "    department_marketing = input_dictionary['department_marketing']\n",
        "    department_product_mng = input_dictionary['department_product_mng']\n",
        "    department_sales = input_dictionary['department_sales']\n",
        "    department_support = input_dictionary['department_support']\n",
        "    department_technical = input_dictionary['department_technical']\n",
        "\n",
        "\n",
        "    input_list = [satisfaction_level, last_evaluation, number_project,\n",
        "                  average_monthly_hours, time_spend_company, work_accident, promotion_last_five_years,salary,\n",
        "                  department_IT,department_RandD,department_accounting,department_hr,department_management,\n",
        "                  department_marketing,department_product_mng,department_sales,department_support,\n",
        "                  department_technical]\n",
        "\n",
        "    prediction = log_mod.predict([input_list])\n",
        "\n",
        "    if (prediction[0] == 0):\n",
        "        return 'The person might not left the company'\n",
        "    else:\n",
        "        return 'The person might left the company'\n",
        "\n",
        "uvicorn.run(app, port=8000)"
      ],
      "metadata": {
        "id": "nF9stoGyuccM"
      },
      "execution_count": null,
      "outputs": []
    }
  ]
}